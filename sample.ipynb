{
 "cells": [
  {
   "cell_type": "code",
   "execution_count": 4,
   "id": "c8edf9e6-2426-40eb-ab9e-57df127fd3e3",
   "metadata": {},
   "outputs": [],
   "source": [
    "import os\n",
    "import tiktoken\n",
    "import torch\n",
    "from model import GPT,Model_args"
   ]
  },
  {
   "cell_type": "code",
   "execution_count": 5,
   "id": "0e07bed7-835c-4119-8237-04d3f219af35",
   "metadata": {},
   "outputs": [],
   "source": [
    "checkpoint_save_dir = '/path/to/your/checkpoints'\n",
    "device = 'cuda'\n",
    "device_type = 'cuda'\n",
    "dtype = 'bfloat16'\n",
    "ptdtype = {'float32': torch.float32, 'bfloat16': torch.bfloat16, 'float16': torch.float16}[dtype]\n"
   ]
  },
  {
   "cell_type": "code",
   "execution_count": null,
   "id": "cd08b764-c84e-49db-84c8-dbbc4cf8e045",
   "metadata": {},
   "outputs": [],
   "source": [
    "#generate parameters\n",
    "top_k = 50\n",
    "tempreture = 0.5      #higher values make the output more random\n",
    "start = \"Could you tell a story?\"   #The input content\n",
    "num_samples = 1  \n",
    "max_new_tokens = 128\n",
    "\n",
    "#load checkpoint\n",
    "print(f\"load checkpoint from {checkpoint_save_dir}\")\n",
    "ckpt_path = os.path.join(checkpoint_save_dir,'checkpoint.pt')   \n",
    "checkpoint = torch.load(ckpt_path, map_location=device)\n",
    "args = checkpoint['model_args']\n",
    "model = GPT(Model_args(**args))\n",
    "\n",
    "state_dict = checkpoint['model']\n",
    "    #remove unwanted prefix from state_dict keys\n",
    "unwanted_prefix = '_orig_mod'\n",
    "for k,v in list(state_dict.items()): \n",
    "    if k.startswith(unwanted_prefix):\n",
    "        state_dict[k[len(unwanted_prefix):]] = state_dict.pop(k)\n",
    "    \n",
    "model.load_state_dict(state_dict)\n",
    "model.eval()\n",
    "model.to(device)\n",
    "\n",
    "#tokenizer setup\n",
    "enc = tiktoken.get_encoding(\"gpt2\")\n",
    "\n",
    "#encode and decode function\n",
    "decode = lambda x: enc.decode(x)\n",
    "encode = lambda x: enc.encode(x, allowed_special={\"\"})\n",
    "\n",
    "start_ids = encode(start)\n",
    "    #convert to tensor and add batch dimension\n",
    "x = torch.tensor(start_ids,dtype=torch.long,device=device).unsqueeze(0)\n",
    "\n",
    "ctx = torch.amp.autocast(device_type=device_type, dtype=ptdtype)\n",
    "\n",
    "#generate\n",
    "with torch.no_grad():\n",
    "    with ctx:\n",
    "        for k in range(num_samples):\n",
    "            y = model.generate(x,max_new_tokens,top_k=top_k,tempreture=tempreture)\n",
    "            print(decode(y[0].tolist()))\n",
    "            print(\"----------\")"
   ]
  },
  {
   "cell_type": "code",
   "execution_count": null,
   "id": "747d13dd-d43e-4685-9e1b-58b3fd0db484",
   "metadata": {},
   "outputs": [],
   "source": []
  }
 ],
 "metadata": {
  "kernelspec": {
   "display_name": "Python 3 (ipykernel)",
   "language": "python",
   "name": "python3"
  },
  "language_info": {
   "codemirror_mode": {
    "name": "ipython",
    "version": 3
   },
   "file_extension": ".py",
   "mimetype": "text/x-python",
   "name": "python",
   "nbconvert_exporter": "python",
   "pygments_lexer": "ipython3",
   "version": "3.10.8"
  }
 },
 "nbformat": 4,
 "nbformat_minor": 5
}
