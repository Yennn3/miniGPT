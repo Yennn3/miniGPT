{
 "cells": [
  {
   "cell_type": "code",
   "execution_count": 1,
   "id": "fe2c0563-3a16-4af2-bc05-02b1333a56ae",
   "metadata": {},
   "outputs": [],
   "source": [
    "#pip install tiktoken"
   ]
  },
  {
   "cell_type": "code",
   "execution_count": null,
   "id": "7aee5e31-2290-4573-8613-11ed38406781",
   "metadata": {},
   "outputs": [],
   "source": [
    "#This py is to split the text into training and validation sets,\n",
    "#and save the tokenized data in binary format for training"
   ]
  },
  {
   "cell_type": "code",
   "execution_count": 2,
   "id": "81facc09-5202-4e4b-8b85-95048feedb6c",
   "metadata": {},
   "outputs": [],
   "source": [
    "import os\n",
    "import requests\n",
    "import tiktoken\n",
    "import numpy as np\n",
    "import lzma\n"
   ]
  },
  {
   "cell_type": "code",
   "execution_count": 3,
   "id": "dfe910d7-3e94-453b-b98e-7f41eb78b07d",
   "metadata": {},
   "outputs": [],
   "source": [
    "folder_path = '/path/to/your/files'\n",
    "\n",
    "def read_xz_files_in_folder(folder):\n",
    "    data = \"\"\n",
    "    for root, dirs, files in os.walk(folder):\n",
    "        for file in files:\n",
    "            if file.endswith('.xz'):\n",
    "                file_path = os.path.join(root, file)\n",
    "                with lzma.open(file_path, 'rt', encoding='utf-8') as f:\n",
    "                    data += f.read()\n",
    "    return data\n",
    "\n",
    "#If you want to use .txt files, pls use this block of code\n",
    "'''\n",
    "def read_txt_files_in_folder(folder):\n",
    "    data = \"\"\n",
    "    for root, dirs, files in os.walk(folder):\n",
    "        for file in files:\n",
    "            if file.endswith('.txt'):\n",
    "                file_path = os.path.join(root, file)\n",
    "                with open(file_path, 'r', encoding='utf-8') as f:\n",
    "                    data += f.read()\n",
    "    return data\n",
    "'''\n"
   ]
  },
  {
   "cell_type": "code",
   "execution_count": null,
   "id": "40cc7c83-f2a2-4b62-ba86-6cc871d8d87c",
   "metadata": {},
   "outputs": [],
   "source": [
    "#read and concatenate all files in all subfolders\n",
    "data = read_xz_files_in_folder(folder_path)\n",
    "#data = read_txt_files_in_folder(folder_path)\n",
    "\n",
    "n = len(data)\n",
    "train_data = data[:int(n*0.9)]\n",
    "val_data = data[int(n*0.9):]\n",
    "\n",
    "#encode with tiktoken gpt2 bpe\n",
    "enc = tiktoken.get_encoding(\"gpt2\")\n",
    "\n",
    "train_ids = enc.encode_ordinary(train_data)\n",
    "val_ids = enc.encode_ordinary(val_data)\n",
    "print(f\"train has {len(train_ids):,} tokens\")\n",
    "print(f\"val has {len(val_ids):,} tokens\")\n",
    "\n",
    "#export as bin files\n",
    "train_ids = np.array(train_ids, dtype=np.uint16)\n",
    "val_ids = np.array(val_ids, dtype=np.uint16)\n",
    "train_ids.tofile(os.path.join(folder_path, 'train.bin'))\n",
    "val_ids.tofile(os.path.join(folder_path, 'val.bin'))\n"
   ]
  },
  {
   "cell_type": "code",
   "execution_count": null,
   "id": "fcfb9a80-f1dd-42f1-bc8a-45c333f5a559",
   "metadata": {},
   "outputs": [],
   "source": []
  }
 ],
 "metadata": {
  "kernelspec": {
   "display_name": "Python 3 (ipykernel)",
   "language": "python",
   "name": "python3"
  },
  "language_info": {
   "codemirror_mode": {
    "name": "ipython",
    "version": 3
   },
   "file_extension": ".py",
   "mimetype": "text/x-python",
   "name": "python",
   "nbconvert_exporter": "python",
   "pygments_lexer": "ipython3",
   "version": "3.10.8"
  }
 },
 "nbformat": 4,
 "nbformat_minor": 5
}
